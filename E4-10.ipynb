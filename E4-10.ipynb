{
 "cells": [
  {
   "cell_type": "markdown",
   "id": "266d91f2-46bb-480e-b728-cd58db8996d2",
   "metadata": {},
   "source": [
    "# Importando Bibliotecas"
   ]
  },
  {
   "cell_type": "code",
   "execution_count": null,
   "id": "a22bcf2a-4692-4df0-b7aa-21d0da32a78a",
   "metadata": {},
   "outputs": [],
   "source": [
    "import numpy as np\n",
    "import CoolProp.CoolProp as CP"
   ]
  },
  {
   "cell_type": "markdown",
   "id": "81d1bdf6-ae45-4c90-b9e0-390b52ad4e47",
   "metadata": {},
   "source": [
    "# Análise Energética"
   ]
  },
  {
   "cell_type": "markdown",
   "id": "5b72672b-f5cd-41c0-a768-03e0392538a9",
   "metadata": {},
   "source": [
    "## Constantes"
   ]
  },
  {
   "cell_type": "code",
   "execution_count": null,
   "id": "73abcb68-c2c8-4a5a-b4f9-d53e57697f63",
   "metadata": {},
   "outputs": [],
   "source": [
    "M = 28.97 # kg/kmol massa molar do ar\n",
    "R_bar = 8314 # J/(kmol K)\n",
    "profit = 0.115 # $US / (kW h)\n"
   ]
  },
  {
   "cell_type": "markdown",
   "id": "a83f3ab7-7a6f-47a6-b25e-41cf3a536455",
   "metadata": {},
   "source": [
    "## Condições conhecidas"
   ]
  },
  {
   "cell_type": "markdown",
   "id": "ce9c0c32-a33e-4d1b-a843-62804ff90a4d",
   "metadata": {},
   "source": [
    "### Entrada de produtos de combustão "
   ]
  },
  {
   "cell_type": "code",
   "execution_count": null,
   "id": "a016236d-9aea-48d9-8e94-70ec563a1132",
   "metadata": {},
   "outputs": [],
   "source": [
    "p1 = 1 # atm\n",
    "t1 = 400 # Fahrenheit\n",
    "av1 = 2e5 # ft³/min\n",
    "\n",
    "# Convertendo para SI\n",
    "p1 = p1 * 1.01325e5 # Pa | N/m²\n",
    "\n",
    "t1 =  ((t1 - 32) / 1.8) + 273.15 # kelvin\n",
    "av1 = (2e5 * 0.028317) / 60 # m³/s\n"
   ]
  },
  {
   "cell_type": "markdown",
   "id": "0e0af3c3-e084-4624-a6ca-dddf3761514e",
   "metadata": {},
   "source": [
    "### Sainda do da combustão"
   ]
  },
  {
   "cell_type": "code",
   "execution_count": null,
   "id": "d7a4b81e-82dc-46e8-a6ba-e65210ef284b",
   "metadata": {},
   "outputs": [],
   "source": [
    "p2 = 1 # atm\n",
    "t2 = 260 # Fahrenheit\n",
    "\n",
    "# Convertendo para SI\n",
    "p2 = p2 * 1.01325e5 # Pa | N/m²\n",
    "t2 =  ((t2 - 32) / 1.8) + 273.15 # kelvin\n"
   ]
  },
  {
   "cell_type": "markdown",
   "id": "2949a577-7cb1-4b16-873f-19b2f7d9d6f7",
   "metadata": {},
   "source": [
    "### Entrada da água"
   ]
  },
  {
   "cell_type": "code",
   "execution_count": null,
   "id": "40b73954-1f75-4dfa-b29c-bb656a197cb8",
   "metadata": {},
   "outputs": [],
   "source": [
    "p3 = 40 # lbf/in²\n",
    "t3 = 102 # Fahrenheit\n",
    "m3_dot = 275 # lb/min\n",
    "\n",
    "# Convertendo para SI\n",
    "p3 = p3 * 6894.8 # Pa | N/m²\n",
    "t3 =  ((t3 - 32) / 1.8) + 273.15 # Kelvin\n",
    "m3_dot = (m3_dot * 0.4536) / 60 # kg/s"
   ]
  },
  {
   "cell_type": "markdown",
   "id": "f582abb2-4824-4817-803e-a6c2c9002f21",
   "metadata": {},
   "source": [
    "### Saida da água"
   ]
  },
  {
   "cell_type": "code",
   "execution_count": null,
   "id": "20edc797-1b26-4607-9f02-bc54ab0d7d62",
   "metadata": {},
   "outputs": [],
   "source": [
    "p5 = 1 # lbf/in²\n",
    "x5 = 93 # % qualidade\n",
    "\n",
    "# Convertendo para SI\n",
    "p5 = p5 * 6894.8  # Pa | N/m²\n",
    "x5 = x5 / 100 # admensional"
   ]
  },
  {
   "cell_type": "markdown",
   "id": "3bfc3297-674c-4f0b-b8a3-81fb31dd6ece",
   "metadata": {},
   "source": [
    "## Taxa de fluxo de massa e propriedades"
   ]
  },
  {
   "cell_type": "markdown",
   "id": "7a460d1e-de64-4c74-90b5-d063a2c4fc2e",
   "metadata": {},
   "source": [
    "#### Calculando \n",
    "$$\\dot{m_1} = \\frac{(AV)_1}{\\upsilon_1}$$\n",
    "$$ \\upsilon_1 = \\frac{\\bar{R}T_1}{Mp_1} $$\n"
   ]
  },
  {
   "cell_type": "code",
   "execution_count": null,
   "id": "1d1402c0-3d81-451f-89ac-ad793be13075",
   "metadata": {},
   "outputs": [],
   "source": [
    "u1 = (R_bar * t1) / (M * p1) # m³/kg\n",
    "m1_dot = av1 / u1 # kg/s\n"
   ]
  },
  {
   "cell_type": "markdown",
   "id": "518db759-35b1-4cc6-ad42-abd8b696272d",
   "metadata": {},
   "source": [
    "### Adquirindo as entalpias pelo CoolProp"
   ]
  },
  {
   "cell_type": "code",
   "execution_count": null,
   "id": "38bdf422-75c3-4981-8fa1-cbc473d91e48",
   "metadata": {},
   "outputs": [],
   "source": [
    "h1 = CP.PropsSI('H', 'T', t1, 'P', p1, 'Air')  # J/kg\n",
    "h2 = CP.PropsSI('H', 'T', t2, 'P', p2, 'Air')  # J/kg\n",
    "h3 = CP.PropsSI('H', 'T', t3, 'P', p3, 'Water') # J/kg\n",
    "h5 = CP.PropsSI('H', 'P', p5, 'Q', x5, 'Water') # J/kg\n"
   ]
  },
  {
   "cell_type": "markdown",
   "id": "87328ad6-30f9-4e38-ada5-b52e2b2f7a8d",
   "metadata": {},
   "source": [
    "### Calculando a portencia da turbina \n",
    "\n",
    "$$ \\dot{W}_{cv} = \\dot{m}_1 \\left ( h_1 - h_2  \\right ) + \\dot{m}_3 \\left ( h_3 - h_5 \\right ) $$"
   ]
  },
  {
   "cell_type": "code",
   "execution_count": null,
   "id": "f4c1dc41-95ff-4e47-8a8f-abdddae31eef",
   "metadata": {},
   "outputs": [],
   "source": [
    "w_dot = m1_dot * (h1-h2) + m3_dot * (h3 - h5) # w\n",
    "\n",
    "f\"Potencia da turbina = {w_dot * 1e-3} kW\"\n"
   ]
  },
  {
   "cell_type": "markdown",
   "id": "6876d416-2da0-4578-adce-bd3e38851f94",
   "metadata": {},
   "source": [
    "### Calculando temperatura antes de passar pela turbina (efetuar trabalho)\n",
    "\n",
    "$$ 0 = \\dot{m}_1 \\left ( h_1 - h_2  \\right ) + \\dot{m}_3 \\left ( h_3 - h_4 \\right ) $$\n",
    "\n",
    "$$ h_4 = \\frac{\\dot{m}_1}{\\dot{m}_3} \\left ( h_1 - h_2  \\right ) + h_3  $$"
   ]
  },
  {
   "cell_type": "code",
   "execution_count": null,
   "id": "cb403d76-c822-4f53-b8db-8fdfbca69035",
   "metadata": {},
   "outputs": [],
   "source": [
    "h4 = (m1_dot / m3_dot ) * (h1 - h2) + h3  # Balanço de energia\n",
    "\n",
    "t4 = CP.PropsSI('T', 'P', p3 , 'H', h4, 'Water')  # K\n",
    "\n",
    "f\"Temperatura T4 = {t4} K\""
   ]
  },
  {
   "cell_type": "markdown",
   "id": "c6990dc2-92a8-4eaa-b5fb-31a8c6c42f1d",
   "metadata": {},
   "source": [
    "### Ganho anual $(8000)$ hours"
   ]
  },
  {
   "cell_type": "code",
   "execution_count": null,
   "id": "f5fefe1e-e8d8-42e3-bdbf-82b1dee30153",
   "metadata": {},
   "outputs": [],
   "source": [
    "VA = w_dot * 1e-3 * 8000 * profit\n",
    "\n",
    "f\"Ganho Anual: $US {VA:.2f}\""
   ]
  }
 ],
 "metadata": {
  "kernelspec": {
   "display_name": "CoolPropPy3.12",
   "language": "python",
   "name": "coolproppy3.12"
  },
  "language_info": {
   "codemirror_mode": {
    "name": "ipython",
    "version": 3
   },
   "file_extension": ".py",
   "mimetype": "text/x-python",
   "name": "python",
   "nbconvert_exporter": "python",
   "pygments_lexer": "ipython3",
   "version": "3.12.6"
  }
 },
 "nbformat": 4,
 "nbformat_minor": 5
}
